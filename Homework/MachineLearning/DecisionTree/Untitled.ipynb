{
 "cells": [
  {
   "cell_type": "code",
   "execution_count": 1,
   "metadata": {
    "collapsed": true
   },
   "outputs": [],
   "source": [
    "import pandas as pd"
   ]
  },
  {
   "cell_type": "code",
   "execution_count": 8,
   "metadata": {
    "collapsed": true
   },
   "outputs": [],
   "source": [
    "df = pd.read_csv('adult.data', header=None, names=[\n",
    "        'age', 'workclass', 'fnlwgt', 'education',\n",
    "        'education-num', 'marital-status', 'occupation',\n",
    "        'relationship', 'race', 'sex', 'capital-gain',\n",
    "        'capital-loss', 'hours-per-week', 'native-country',\n",
    "        'classes'\n",
    "    ])"
   ]
  },
  {
   "cell_type": "code",
   "execution_count": 26,
   "metadata": {
    "collapsed": false,
    "scrolled": true
   },
   "outputs": [
    {
     "data": {
      "text/plain": [
       "' >50K'"
      ]
     },
     "execution_count": 26,
     "metadata": {},
     "output_type": "execute_result"
    }
   ],
   "source": [
    "tmp = df.groupby('classes')\n",
    "t = tmp.groups.keys()\n",
    "list(t)[0]"
   ]
  },
  {
   "cell_type": "code",
   "execution_count": 20,
   "metadata": {
    "collapsed": true
   },
   "outputs": [],
   "source": [
    "class Node:\n",
    "    def __init__(self):\n",
    "        self.__class = ''\n",
    "        self.__child = {}\n",
    "        \n",
    "    def setClass(self, label):\n",
    "        self.__class = label\n",
    "        \n",
    "    def setChild(self, attr, tree):\n",
    "        self.__child[attr] = tree"
   ]
  },
  {
   "cell_type": "code",
   "execution_count": null,
   "metadata": {
    "collapsed": true
   },
   "outputs": [],
   "source": [
    "def getGroups(DataSet):\n",
    "    return DataSet.groupby('classes').groups.keys()\n",
    "\n",
    "def TreeGenerate(DataSet, AttributeSet):\n",
    "    node = Node()\n",
    "    attrs = getGroups(DataSet)\n",
    "    if len(attrs) == 1:\n",
    "        node.setClass(list(attrs)[0])\n",
    "    if A"
   ]
  }
 ],
 "metadata": {
  "kernelspec": {
   "display_name": "Python [Root]",
   "language": "python",
   "name": "Python [Root]"
  },
  "language_info": {
   "codemirror_mode": {
    "name": "ipython",
    "version": 3
   },
   "file_extension": ".py",
   "mimetype": "text/x-python",
   "name": "python",
   "nbconvert_exporter": "python",
   "pygments_lexer": "ipython3",
   "version": "3.5.2"
  }
 },
 "nbformat": 4,
 "nbformat_minor": 0
}
